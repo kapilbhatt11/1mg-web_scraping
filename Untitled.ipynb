{
 "cells": [
  {
   "cell_type": "code",
   "execution_count": 3,
   "id": "01cb5c10",
   "metadata": {},
   "outputs": [],
   "source": [
    "import requests\n",
    "from bs4 import BeautifulSoup\n",
    "import json"
   ]
  },
  {
   "cell_type": "code",
   "execution_count": 4,
   "id": "46b2fe88",
   "metadata": {},
   "outputs": [],
   "source": [
    "product_name = []\n",
    "unit =[]\n",
    "price = {\"sp\":[],\"cp\":[]}"
   ]
  },
  {
   "cell_type": "code",
   "execution_count": 11,
   "id": "af156d22",
   "metadata": {},
   "outputs": [],
   "source": [
    "for i in range(0,40):\n",
    "   \n",
    "    #if you want other medicine data just change the link \n",
    "    url = \"https://www.1mg.com/categories/diabetes/diabetic-medicines-583\"+\"?filter=true&pageNumber={}\".format(i)\n",
    "    \n",
    "    r = requests.get(url)\n",
    "    soup = BeautifulSoup(r.content,\"html.parser\")\n",
    "    \n",
    "    name = soup.findAll(\"div\",{\"class\":\"style__pro-title___2QwJy\"})\n",
    "    for i in name:\n",
    "        try:\n",
    "            product_name.append(i.text)\n",
    "        except:\n",
    "            product_name.append(\"NA\")\n",
    "            \n",
    "    qauntity = soup.findAll(\"div\",{\"class\":\"style__pack-size___2JQG7\"})\n",
    "    for j in qauntity:\n",
    "        try:\n",
    "            unit.append(j.text)\n",
    "        except:\n",
    "            unit.append(\"NA\")\n",
    "    \n",
    "    mrp = soup.findAll(\"div\",{\"class\":\"style__product-pricing___38PRR\"})\n",
    "    for k in mrp:\n",
    "        try:\n",
    "            price[\"sp\"].append(k.find(\"span\",{\"class\":\"style__discount-price___25Bya\"}).text)\n",
    "        except:\n",
    "            price[\"sp\"].append(\"na\")\n",
    "        try:\n",
    "            price[\"cp\"].append(k.find(\"div\",{\"class\":\"style__price-tag___cOxYc\"}).text)\n",
    "        except:\n",
    "            price[\"cp\"].append(k.find(\"span\",{\"class\":\"style__discount-price___25Bya\"}).text)"
   ]
  },
  {
   "cell_type": "code",
   "execution_count": 20,
   "id": "d075a814",
   "metadata": {},
   "outputs": [
    {
     "data": {
      "text/plain": [
       "0"
      ]
     },
     "execution_count": 20,
     "metadata": {},
     "output_type": "execute_result"
    }
   ],
   "source": [
    "len(name)"
   ]
  },
  {
   "cell_type": "code",
   "execution_count": 21,
   "id": "ff3bfa72",
   "metadata": {},
   "outputs": [],
   "source": [
    "data = {\"Medicine_name\":product_name,\"Sell_price\":price[\"sp\"],\"Offer_price\":price[\"cp\"],\"Quantity\":unit}"
   ]
  },
  {
   "cell_type": "code",
   "execution_count": 22,
   "id": "e58a7d93",
   "metadata": {},
   "outputs": [],
   "source": [
    "import pandas as pd"
   ]
  },
  {
   "cell_type": "code",
   "execution_count": 30,
   "id": "ba041c72",
   "metadata": {},
   "outputs": [],
   "source": [
    "file = pd.DataFrame(data)"
   ]
  },
  {
   "cell_type": "code",
   "execution_count": 31,
   "id": "9128412f",
   "metadata": {},
   "outputs": [],
   "source": [
    "file.to_csv(\"diabetic-medicines\")"
   ]
  },
  {
   "cell_type": "code",
   "execution_count": 32,
   "id": "915beb20",
   "metadata": {},
   "outputs": [
    {
     "data": {
      "text/html": [
       "<div>\n",
       "<style scoped>\n",
       "    .dataframe tbody tr th:only-of-type {\n",
       "        vertical-align: middle;\n",
       "    }\n",
       "\n",
       "    .dataframe tbody tr th {\n",
       "        vertical-align: top;\n",
       "    }\n",
       "\n",
       "    .dataframe thead th {\n",
       "        text-align: right;\n",
       "    }\n",
       "</style>\n",
       "<table border=\"1\" class=\"dataframe\">\n",
       "  <thead>\n",
       "    <tr style=\"text-align: right;\">\n",
       "      <th></th>\n",
       "      <th>Medicine_name</th>\n",
       "      <th>Sell_price</th>\n",
       "      <th>Offer_price</th>\n",
       "      <th>Quantity</th>\n",
       "    </tr>\n",
       "  </thead>\n",
       "  <tbody>\n",
       "    <tr>\n",
       "      <th>2643</th>\n",
       "      <td>Uma Ayurveda Chaturmukh Ras Tablet (with Gold)</td>\n",
       "      <td>na</td>\n",
       "      <td>MRP₹935</td>\n",
       "      <td>bottle of 10 tablets</td>\n",
       "    </tr>\n",
       "    <tr>\n",
       "      <th>2644</th>\n",
       "      <td>Uma Ayurveda Vasant Kusumakar Ras Tablet (with...</td>\n",
       "      <td>na</td>\n",
       "      <td>MRP₹1200</td>\n",
       "      <td>bottle of 10 tablets</td>\n",
       "    </tr>\n",
       "    <tr>\n",
       "      <th>2645</th>\n",
       "      <td>Uma Ayurveda Vrahat Vangeshwar Ras Tablet (wit...</td>\n",
       "      <td>na</td>\n",
       "      <td>MRP₹650</td>\n",
       "      <td>bottle of 10 tablets</td>\n",
       "    </tr>\n",
       "    <tr>\n",
       "      <th>2646</th>\n",
       "      <td>Thrillx Herbs Karela Powder</td>\n",
       "      <td>na</td>\n",
       "      <td>MRP₹119</td>\n",
       "      <td>packet of 100 gm Powder</td>\n",
       "    </tr>\n",
       "    <tr>\n",
       "      <th>2647</th>\n",
       "      <td>Uma Ayurveda Chaturbhuj Ras Tablet (with Gold)</td>\n",
       "      <td>na</td>\n",
       "      <td>MRP₹2700</td>\n",
       "      <td>bottle of 10 tablets</td>\n",
       "    </tr>\n",
       "  </tbody>\n",
       "</table>\n",
       "</div>"
      ],
      "text/plain": [
       "                                          Medicine_name Sell_price  \\\n",
       "2643     Uma Ayurveda Chaturmukh Ras Tablet (with Gold)         na   \n",
       "2644  Uma Ayurveda Vasant Kusumakar Ras Tablet (with...         na   \n",
       "2645  Uma Ayurveda Vrahat Vangeshwar Ras Tablet (wit...         na   \n",
       "2646                        Thrillx Herbs Karela Powder         na   \n",
       "2647     Uma Ayurveda Chaturbhuj Ras Tablet (with Gold)         na   \n",
       "\n",
       "     Offer_price                 Quantity  \n",
       "2643     MRP₹935     bottle of 10 tablets  \n",
       "2644    MRP₹1200     bottle of 10 tablets  \n",
       "2645     MRP₹650     bottle of 10 tablets  \n",
       "2646     MRP₹119  packet of 100 gm Powder  \n",
       "2647    MRP₹2700     bottle of 10 tablets  "
      ]
     },
     "execution_count": 32,
     "metadata": {},
     "output_type": "execute_result"
    }
   ],
   "source": [
    "file.tail() #just chcking last 5 element"
   ]
  },
  {
   "cell_type": "code",
   "execution_count": null,
   "id": "94c964b4",
   "metadata": {},
   "outputs": [],
   "source": []
  },
  {
   "cell_type": "code",
   "execution_count": null,
   "id": "d0a218d7",
   "metadata": {},
   "outputs": [],
   "source": []
  }
 ],
 "metadata": {
  "kernelspec": {
   "display_name": "Python 3",
   "language": "python",
   "name": "python3"
  },
  "language_info": {
   "codemirror_mode": {
    "name": "ipython",
    "version": 3
   },
   "file_extension": ".py",
   "mimetype": "text/x-python",
   "name": "python",
   "nbconvert_exporter": "python",
   "pygments_lexer": "ipython3",
   "version": "3.9.4"
  }
 },
 "nbformat": 4,
 "nbformat_minor": 5
}
